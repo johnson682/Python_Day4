{
 "cells": [
  {
   "cell_type": "markdown",
   "metadata": {},
   "source": [
    "# File Handling in Python"
   ]
  },
  {
   "cell_type": "code",
   "execution_count": 1,
   "metadata": {},
   "outputs": [],
   "source": [
    "newFile = open(\"NewFile.txt\",\"w\")\n",
    "newFile.write(\"Hi all created new file by python\")\n",
    "newFile.close()"
   ]
  },
  {
   "cell_type": "code",
   "execution_count": 2,
   "metadata": {},
   "outputs": [],
   "source": [
    "newFile = open(\"NewFile.txt\",\"r\")\n",
    "ReadFile = newFile.read()\n",
    "newFile.close()"
   ]
  },
  {
   "cell_type": "code",
   "execution_count": 3,
   "metadata": {},
   "outputs": [
    {
     "data": {
      "text/plain": [
       "'Hi all created new file by python'"
      ]
     },
     "execution_count": 3,
     "metadata": {},
     "output_type": "execute_result"
    }
   ],
   "source": [
    "ReadFile"
   ]
  },
  {
   "cell_type": "code",
   "execution_count": 4,
   "metadata": {},
   "outputs": [],
   "source": [
    "newFile = open(\"NewFile.txt\",\"a\")\n",
    "newFile.write(\",Program working fine\")\n",
    "newFile.close()"
   ]
  },
  {
   "cell_type": "code",
   "execution_count": 5,
   "metadata": {},
   "outputs": [],
   "source": [
    "newFile = open(\"NewFile.txt\",\"r\")\n",
    "ReadFile = newFile.read()\n",
    "newFile.close()"
   ]
  },
  {
   "cell_type": "code",
   "execution_count": 6,
   "metadata": {},
   "outputs": [
    {
     "data": {
      "text/plain": [
       "'Hi all created new file by python,Program working fine'"
      ]
     },
     "execution_count": 6,
     "metadata": {},
     "output_type": "execute_result"
    }
   ],
   "source": [
    "ReadFile"
   ]
  },
  {
   "cell_type": "code",
   "execution_count": 12,
   "metadata": {},
   "outputs": [
    {
     "name": "stdout",
     "output_type": "stream",
     "text": [
      "Enter a number as your wish:10\n",
      "The factorial of 10 is 3628800\n"
     ]
    }
   ],
   "source": [
    "def Factorial(i):\n",
    "    if i == 1:\n",
    "        return i\n",
    "    else:\n",
    "        return i*Factorial(i-1)\n",
    "    \n",
    "factorialNumber = int(input(\"Enter a number as your wish:\"))\n",
    "\n",
    "if factorialNumber < 0:\n",
    "    \n",
    "    print(\"factorial does not exist for negative numbers dude try positive number\")\n",
    "elif factorialNumber == 0:\n",
    "    print(\"The factorial of 0 is 1\")\n",
    "else:\n",
    "    print(\"The factorial of\",factorialNumber,\"is\",Factorial(factorialNumber))"
   ]
  },
  {
   "cell_type": "code",
   "execution_count": null,
   "metadata": {},
   "outputs": [],
   "source": []
  }
 ],
 "metadata": {
  "kernelspec": {
   "display_name": "Python 3",
   "language": "python",
   "name": "python3"
  },
  "language_info": {
   "codemirror_mode": {
    "name": "ipython",
    "version": 3
   },
   "file_extension": ".py",
   "mimetype": "text/x-python",
   "name": "python",
   "nbconvert_exporter": "python",
   "pygments_lexer": "ipython3",
   "version": "3.8.5"
  }
 },
 "nbformat": 4,
 "nbformat_minor": 4
}
